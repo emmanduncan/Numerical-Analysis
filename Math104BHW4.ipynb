{
 "cells": [
  {
   "cell_type": "markdown",
   "metadata": {},
   "source": [
    "## Emma Duncan - 7198831"
   ]
  },
  {
   "cell_type": "code",
   "execution_count": 1,
   "metadata": {
    "collapsed": false
   },
   "outputs": [
    {
     "name": "stderr",
     "output_type": "stream",
     "text": [
      "//anaconda/lib/python3.5/site-packages/matplotlib/font_manager.py:273: UserWarning: Matplotlib is building the font cache using fc-list. This may take a moment.\n",
      "  warnings.warn('Matplotlib is building the font cache using fc-list. This may take a moment.')\n",
      "//anaconda/lib/python3.5/site-packages/matplotlib/font_manager.py:273: UserWarning: Matplotlib is building the font cache using fc-list. This may take a moment.\n",
      "  warnings.warn('Matplotlib is building the font cache using fc-list. This may take a moment.')\n"
     ]
    }
   ],
   "source": [
    "import numpy as np\n",
    "import pandas as pd\n",
    "import math\n",
    "from matplotlib import pyplot as plt"
   ]
  },
  {
   "cell_type": "markdown",
   "metadata": {},
   "source": [
    "### 1.\n",
    "Tridiagonal solver takes tridiagonal matrix, A, and column matrix, b, to solve for x"
   ]
  },
  {
   "cell_type": "code",
   "execution_count": 2,
   "metadata": {
    "collapsed": false
   },
   "outputs": [],
   "source": [
    "def tridiag(A,b):\n",
    "    n = len(A)\n",
    "    U = np.zeros((n,n))\n",
    "    L = np.zeros((n,n))\n",
    "    y = np.zeros((n,1))\n",
    "    x = np.zeros((n,1))\n",
    "    U[0][0] = A[0][0]\n",
    "    for j in range (0,n-1):\n",
    "        L[j+1][j] = A[j+1][j]/U[j][j]\n",
    "        U[j+1][j+1] = (A[j+1][j+1])-(L[j+1][j]*A[j][j+1])\n",
    "        U[j][j+1] = A[j][j+1]\n",
    "        L[j][j] = 1\n",
    "    L[n-1][n-1]=1\n",
    "    y[0][0] = b[0][0]\n",
    "    for i in range (1,n):\n",
    "        y[i][0] = b[i][0] - L[i][i-1]*y[i-1][0]     \n",
    "    x[n-1][0]=y[n-1][0]/U[n-1][n-1]\n",
    "    for k in range (n-2,-1,-1):\n",
    "        x[k][0] = (y[k][0]-A[k][k+1]*x[k+1][0])/U[k][k]\n",
    "    return(x)     "
   ]
  },
  {
   "cell_type": "markdown",
   "metadata": {},
   "source": [
    "This is my test case for the code"
   ]
  },
  {
   "cell_type": "code",
   "execution_count": 3,
   "metadata": {
    "collapsed": false
   },
   "outputs": [],
   "source": [
    "A = np.array([[-2,1,0,0],[1,-2,1,0],[0,1,-2,1],[0,0,1,-2]])\n",
    "b = np.array([[0.04],[0.04],[0.04],[0.04]])"
   ]
  },
  {
   "cell_type": "code",
   "execution_count": 4,
   "metadata": {
    "collapsed": false
   },
   "outputs": [
    {
     "data": {
      "text/plain": [
       "array([[-0.08],\n",
       "       [-0.12],\n",
       "       [-0.12],\n",
       "       [-0.08]])"
      ]
     },
     "execution_count": 4,
     "metadata": {},
     "output_type": "execute_result"
    }
   ],
   "source": [
    "tridiag(A,b)"
   ]
  },
  {
   "cell_type": "markdown",
   "metadata": {},
   "source": [
    "### 2a.\n",
    "\n",
    "The function approx(N) approximates given function for N nodes and plugs into tridiagonal solver."
   ]
  },
  {
   "cell_type": "code",
   "execution_count": 5,
   "metadata": {
    "collapsed": true
   },
   "outputs": [],
   "source": [
    "def approx(N):\n",
    "    M = np.zeros((N+1,N+1))\n",
    "    b = np.zeros((N+1,1))\n",
    "    h = 1/N\n",
    "    M[0][0]=1 \n",
    "    M[N][N]=1\n",
    "    for i in range(1,N):\n",
    "        M[i][i-1] = -1/(h**2)\n",
    "        M[i][i] = (2/(h**2))+(math.pi**2)\n",
    "        M[i][i+1] = -1/(h**2)\n",
    "        b[i][0] = 2*(math.pi**2)*math.sin(math.pi*(i/N))\n",
    "    return(tridiag(M,b))"
   ]
  },
  {
   "cell_type": "markdown",
   "metadata": {},
   "source": [
    "solve for N = 50"
   ]
  },
  {
   "cell_type": "code",
   "execution_count": 6,
   "metadata": {
    "collapsed": false
   },
   "outputs": [
    {
     "data": {
      "text/plain": [
       "array([[ 0.        ],\n",
       "       [ 0.06280085],\n",
       "       [ 0.12535385],\n",
       "       [ 0.18741214],\n",
       "       [ 0.2487308 ],\n",
       "       [ 0.30906783],\n",
       "       [ 0.36818511],\n",
       "       [ 0.42584933],\n",
       "       [ 0.48183292],\n",
       "       [ 0.53591494],\n",
       "       [ 0.58788194],\n",
       "       [ 0.63752885],\n",
       "       [ 0.68465971],\n",
       "       [ 0.72908854],\n",
       "       [ 0.77063999],\n",
       "       [ 0.80915008],\n",
       "       [ 0.84446682],\n",
       "       [ 0.87645083],\n",
       "       [ 0.9049759 ],\n",
       "       [ 0.92992943],\n",
       "       [ 0.95121296],\n",
       "       [ 0.96874249],\n",
       "       [ 0.98244884],\n",
       "       [ 0.9922779 ],\n",
       "       [ 0.9981909 ],\n",
       "       [ 1.0001645 ],\n",
       "       [ 0.9981909 ],\n",
       "       [ 0.9922779 ],\n",
       "       [ 0.98244884],\n",
       "       [ 0.96874249],\n",
       "       [ 0.95121296],\n",
       "       [ 0.92992943],\n",
       "       [ 0.9049759 ],\n",
       "       [ 0.87645083],\n",
       "       [ 0.84446682],\n",
       "       [ 0.80915008],\n",
       "       [ 0.77063999],\n",
       "       [ 0.72908854],\n",
       "       [ 0.68465971],\n",
       "       [ 0.63752885],\n",
       "       [ 0.58788194],\n",
       "       [ 0.53591494],\n",
       "       [ 0.48183292],\n",
       "       [ 0.42584933],\n",
       "       [ 0.36818511],\n",
       "       [ 0.30906783],\n",
       "       [ 0.2487308 ],\n",
       "       [ 0.18741214],\n",
       "       [ 0.12535385],\n",
       "       [ 0.06280085],\n",
       "       [ 0.        ]])"
      ]
     },
     "execution_count": 6,
     "metadata": {},
     "output_type": "execute_result"
    }
   ],
   "source": [
    "approx(50)"
   ]
  },
  {
   "cell_type": "markdown",
   "metadata": {},
   "source": [
    "Plot $v_{j}$ points from the output "
   ]
  },
  {
   "cell_type": "code",
   "execution_count": 7,
   "metadata": {
    "collapsed": false
   },
   "outputs": [
    {
     "data": {
      "image/png": "[encoded data removed]",
      "text/plain": [
       "<matplotlib.figure.Figure at 0x1146f3978>"
      ]
     },
     "metadata": {},
     "output_type": "display_data"
    }
   ],
   "source": [
    "x = np.zeros((51,1))\n",
    "for i in range (0,51):\n",
    "    x[i][0] = i/50\n",
    "    \n",
    "b = plt.scatter(x,approx(50))\n",
    "\n",
    "plt.show(b)"
   ]
  },
  {
   "cell_type": "markdown",
   "metadata": {},
   "source": [
    "This graph looks very similar to the sine curve we are trying to approximate, to confirm we graph the actual below.\n",
    "\n",
    "### 2b.\n",
    "Scatter plot of output with graph of $u(x) = \\sin(\\pi x)$, in red"
   ]
  },
  {
   "cell_type": "code",
   "execution_count": 8,
   "metadata": {
    "collapsed": false
   },
   "outputs": [
    {
     "data": {
      "image/png": "[encoded data removed]",
      "text/plain": [
       "<matplotlib.figure.Figure at 0x1146f3080>"
      ]
     },
     "metadata": {},
     "output_type": "display_data"
    }
   ],
   "source": [
    "b = plt.scatter(x,approx(50))\n",
    "\n",
    "y = np.zeros((51,1))\n",
    "for i in range(0,51):\n",
    "    y[i][0] = math.sin(math.pi*x[i][0])\n",
    "a = plt.plot(x, y, 'r')\n",
    "plt.show()"
   ]
  },
  {
   "cell_type": "markdown",
   "metadata": {},
   "source": [
    "This graph is nearly identical to our approximated points."
   ]
  },
  {
   "cell_type": "markdown",
   "metadata": {},
   "source": [
    "### 2c. \n",
    "\n",
    "We calculate error as $error = |actual - approx|$ for each x-node, and then sum all errors to compare for $N=50$ and $N=100$\n",
    "\n",
    "The error with N=100 should be approximately half the size of the error with N=50"
   ]
  },
  {
   "cell_type": "code",
   "execution_count": 9,
   "metadata": {
    "collapsed": false
   },
   "outputs": [
    {
     "name": "stdout",
     "output_type": "stream",
     "text": [
      "error with N=50: 0.005234437235622194 , error with N=100: 0.002617800079649628\n"
     ]
    }
   ],
   "source": [
    "def err(ap, ac):\n",
    "    N = len(ap) \n",
    "    error = 0\n",
    "    for i in range(0,N):\n",
    "        error += math.fabs(ap[i][0]-ac[i][0])\n",
    "    return(error)\n",
    "\n",
    "x2 = np.zeros((101,1))\n",
    "for i in range (0,101):\n",
    "    x2[i][0] = i/100\n",
    "y2 = np.zeros((101,1))\n",
    "for i in range(0,101):\n",
    "    y2[i][0] = math.sin(math.pi*x2[i][0])\n",
    "\n",
    "print(\"error with N=50:\", err(approx(50),y),\", error with N=100:\",err(approx(100),y2))"
   ]
  },
  {
   "cell_type": "markdown",
   "metadata": {},
   "source": [
    "It is clear that more nodes produces an error approximately half the size, as predicted."
   ]
  },
  {
   "cell_type": "markdown",
   "metadata": {},
   "source": [
    "### 2d. \n",
    "\n",
    "When you do not know the exact solution, you can check the convergence through fixed point iterations. By choosing a tolerance and comparing your errors, you can find the convergence when your error is less than the tolerance."
   ]
  },
  {
   "cell_type": "code",
   "execution_count": 10,
   "metadata": {
    "collapsed": false
   },
   "outputs": [
    {
     "data": {
      "text/plain": [
       "array([[ 0.        ],\n",
       "       [ 0.03141205],\n",
       "       [ 0.0627931 ],\n",
       "       [ 0.09411218],\n",
       "       [ 0.12533839],\n",
       "       [ 0.1564409 ],\n",
       "       [ 0.18738902],\n",
       "       [ 0.21815221],\n",
       "       [ 0.24870011],\n",
       "       [ 0.27900258],\n",
       "       [ 0.3090297 ],\n",
       "       [ 0.33875185],\n",
       "       [ 0.36813969],\n",
       "       [ 0.39716422],\n",
       "       [ 0.4257968 ],\n",
       "       [ 0.45400917],\n",
       "       [ 0.48177349],\n",
       "       [ 0.50906235],\n",
       "       [ 0.53584883],\n",
       "       [ 0.56210649],\n",
       "       [ 0.58780942],\n",
       "       [ 0.61293226],\n",
       "       [ 0.6374502 ],\n",
       "       [ 0.66133906],\n",
       "       [ 0.68457526],\n",
       "       [ 0.70713586],\n",
       "       [ 0.72899861],\n",
       "       [ 0.75014192],\n",
       "       [ 0.77054493],\n",
       "       [ 0.79018751],\n",
       "       [ 0.80905026],\n",
       "       [ 0.82711459],\n",
       "       [ 0.84436265],\n",
       "       [ 0.86077742],\n",
       "       [ 0.87634272],\n",
       "       [ 0.89104317],\n",
       "       [ 0.90486426],\n",
       "       [ 0.91779237],\n",
       "       [ 0.92981472],\n",
       "       [ 0.94091946],\n",
       "       [ 0.95109563],\n",
       "       [ 0.96033318],\n",
       "       [ 0.96862299],\n",
       "       [ 0.9759569 ],\n",
       "       [ 0.98232765],\n",
       "       [ 0.98772896],\n",
       "       [ 0.9921555 ],\n",
       "       [ 0.99560291],\n",
       "       [ 0.99806777],\n",
       "       [ 0.99954766],\n",
       "       [ 1.00004112],\n",
       "       [ 0.99954766],\n",
       "       [ 0.99806777],\n",
       "       [ 0.99560291],\n",
       "       [ 0.9921555 ],\n",
       "       [ 0.98772896],\n",
       "       [ 0.98232765],\n",
       "       [ 0.9759569 ],\n",
       "       [ 0.96862299],\n",
       "       [ 0.96033318],\n",
       "       [ 0.95109563],\n",
       "       [ 0.94091946],\n",
       "       [ 0.92981472],\n",
       "       [ 0.91779237],\n",
       "       [ 0.90486426],\n",
       "       [ 0.89104317],\n",
       "       [ 0.87634272],\n",
       "       [ 0.86077742],\n",
       "       [ 0.84436265],\n",
       "       [ 0.82711459],\n",
       "       [ 0.80905026],\n",
       "       [ 0.79018751],\n",
       "       [ 0.77054493],\n",
       "       [ 0.75014192],\n",
       "       [ 0.72899861],\n",
       "       [ 0.70713586],\n",
       "       [ 0.68457526],\n",
       "       [ 0.66133906],\n",
       "       [ 0.6374502 ],\n",
       "       [ 0.61293226],\n",
       "       [ 0.58780942],\n",
       "       [ 0.56210649],\n",
       "       [ 0.53584883],\n",
       "       [ 0.50906235],\n",
       "       [ 0.48177349],\n",
       "       [ 0.45400917],\n",
       "       [ 0.4257968 ],\n",
       "       [ 0.39716422],\n",
       "       [ 0.36813969],\n",
       "       [ 0.33875185],\n",
       "       [ 0.3090297 ],\n",
       "       [ 0.27900258],\n",
       "       [ 0.24870011],\n",
       "       [ 0.21815221],\n",
       "       [ 0.18738902],\n",
       "       [ 0.1564409 ],\n",
       "       [ 0.12533839],\n",
       "       [ 0.09411218],\n",
       "       [ 0.0627931 ],\n",
       "       [ 0.03141205],\n",
       "       [ 0.        ]])"
      ]
     },
     "execution_count": 10,
     "metadata": {},
     "output_type": "execute_result"
    }
   ],
   "source": [
    "approx(100)"
   ]
  },
  {
   "cell_type": "code",
   "execution_count": null,
   "metadata": {
    "collapsed": true
   },
   "outputs": [],
   "source": []
  }
 ],
 "metadata": {
  "anaconda-cloud": {},
  "kernelspec": {
   "display_name": "Python [default]",
   "language": "python",
   "name": "python3"
  },
  "language_info": {
   "codemirror_mode": {
    "name": "ipython",
    "version": 3
   },
   "file_extension": ".py",
   "mimetype": "text/x-python",
   "name": "python",
   "nbconvert_exporter": "python",
   "pygments_lexer": "ipython3",
   "version": "3.5.2"
  }
 },
 "nbformat": 4,
 "nbformat_minor": 1
}
