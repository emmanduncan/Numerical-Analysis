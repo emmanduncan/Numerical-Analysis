{
 "cells": [
  {
   "cell_type": "markdown",
   "metadata": {},
   "source": [
    "Emma Duncan - 7198831\n",
    "\n",
    "Math 104B Homework 3\n",
    "\n",
    "17 February 2017"
   ]
  },
  {
   "cell_type": "code",
   "execution_count": 8,
   "metadata": {
    "collapsed": false
   },
   "outputs": [],
   "source": [
    "import numpy as np"
   ]
  },
  {
   "cell_type": "code",
   "execution_count": 134,
   "metadata": {
    "collapsed": false
   },
   "outputs": [],
   "source": [
    "def GaussianElim(A,b):\n",
    "    n = len(A)\n",
    "    NEW = np.c_[A,b]\n",
    "    if np.linalg.det(A) == 0:\n",
    "        print('ERROR: Matrix is singular')\n",
    "    else:\n",
    "        for i in range(0,n):\n",
    "            col=[]\n",
    "            for j in range(i, n):\n",
    "                col.append(NEW[j][i])\n",
    "                MAX = max(col)\n",
    "            for l in range(i,n):\n",
    "                if A[l][i] == MAX:\n",
    "                    NEW[[i,l]]=NEW[[l,i]]\n",
    "                else:\n",
    "                    0\n",
    "            for k in range(i+1, n):\n",
    "                NEW[k] = (NEW[k])-(NEW[i])*float((NEW[k][i]/NEW[i][i]))\n",
    "            GE = np.delete(NEW, n,1)\n",
    "        return(NEW)"
   ]
  },
  {
   "cell_type": "code",
   "execution_count": 135,
   "metadata": {
    "collapsed": true
   },
   "outputs": [],
   "source": [
    "def BackwardSub(A,b):\n",
    "    n=len(A)\n",
    "    GE = GaussianElim(A,b)\n",
    "    xlist = [0]*n\n",
    "    xlist[n-1]=GE[n-1][n]\n",
    "    for i in range(n-2,-1,-1):\n",
    "        add = 0\n",
    "        for j in range (i+1,n):\n",
    "            add += GE[i][j]*xlist[j]\n",
    "        x = (GE[i][n]-add)/GE[i][i]\n",
    "        xlist[i]=x\n",
    "    print(xlist)"
   ]
  },
  {
   "cell_type": "code",
   "execution_count": 136,
   "metadata": {
    "collapsed": false
   },
   "outputs": [
    {
     "name": "stdout",
     "output_type": "stream",
     "text": [
      "[[ 5.          1.          0.          1.          1.        ]\n",
      " [ 0.          4.          0.          2.          2.        ]\n",
      " [ 0.          0.          4.          0.4         2.4       ]\n",
      " [ 0.          0.          0.         -0.7         2.3       ]\n",
      " [ 0.          0.          0.          4.13963964  3.61261261]]\n"
     ]
    }
   ],
   "source": [
    "#1B\n",
    "A = np.array([[5.,1.,0.,2.,1.],[0.,4.,0.,1.,2.],[1.,1.,4.,1.,1.],[0.,1.,2.,6.,0.],[0.,0.,1.,2.,4.]])\n",
    "b = [1.,2.,3.,4.,5.]\n",
    "\n",
    "Answer = (np.delete(GaussianElim(A,b),n,1))\n",
    "print(np.matrix(Answer))"
   ]
  },
  {
   "cell_type": "code",
   "execution_count": 137,
   "metadata": {
    "collapsed": false
   },
   "outputs": [
    {
     "name": "stdout",
     "output_type": "stream",
     "text": [
      "[-0.56578199821443076, -1.5238211184157131, 0.15173281389497595, 0.87005924843762694, 3.612612612612613]\n"
     ]
    }
   ],
   "source": [
    "BackwardSub(A,b)"
   ]
  },
  {
   "cell_type": "code",
   "execution_count": 97,
   "metadata": {
    "collapsed": false
   },
   "outputs": [
    {
     "name": "stdout",
     "output_type": "stream",
     "text": [
      "ERROR: Matrix is singular\n"
     ]
    }
   ],
   "source": [
    "#1C\n",
    "A = np.array([[5.,1.,0.,2.],[0.,4.,0.,8.],[1.,1.,4.,2.],[0.,1.,2.,2.]])\n",
    "b = [1.,2.,3.,4.]\n",
    "\n",
    "GaussianElim(A,b)"
   ]
  }
 ],
 "metadata": {
  "kernelspec": {
   "display_name": "Python [default]",
   "language": "python",
   "name": "python3"
  },
  "language_info": {
   "codemirror_mode": {
    "name": "ipython",
    "version": 3
   },
   "file_extension": ".py",
   "mimetype": "text/x-python",
   "name": "python",
   "nbconvert_exporter": "python",
   "pygments_lexer": "ipython3",
   "version": "3.5.2"
  }
 },
 "nbformat": 4,
 "nbformat_minor": 1
}
